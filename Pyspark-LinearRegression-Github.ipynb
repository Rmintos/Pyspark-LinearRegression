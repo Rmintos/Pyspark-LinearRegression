{
 "cells": [
  {
   "cell_type": "code",
   "execution_count": 1,
   "metadata": {},
   "outputs": [],
   "source": [
    "from pyspark.sql import Row\n",
    "from pyspark.ml.linalg import Vectors\n",
    "from pyspark.ml.regression import LinearRegression\n",
    "from pyspark.ml.evaluation import RegressionEvaluator\n",
    "from pyspark.ml.feature import StringIndexer"
   ]
  },
  {
   "cell_type": "code",
   "execution_count": 2,
   "metadata": {},
   "outputs": [],
   "source": [
    "spSession = SparkSession.builder.master(\"local\").appName(\"Pyspark-ML\").getOrCreate()"
   ]
  },
  {
   "cell_type": "code",
   "execution_count": 3,
   "metadata": {},
   "outputs": [],
   "source": [
    "df = sc.textFile(\"weatherAUST.csv\")"
   ]
  },
  {
   "cell_type": "code",
   "execution_count": 4,
   "metadata": {},
   "outputs": [
    {
     "data": {
      "text/plain": [
       "weatherAUST.csv MapPartitionsRDD[1] at textFile at NativeMethodAccessorImpl.java:0"
      ]
     },
     "execution_count": 4,
     "metadata": {},
     "output_type": "execute_result"
    }
   ],
   "source": [
    "df.cache()"
   ]
  },
  {
   "cell_type": "code",
   "execution_count": 5,
   "metadata": {},
   "outputs": [
    {
     "data": {
      "text/plain": [
       "65299"
      ]
     },
     "execution_count": 5,
     "metadata": {},
     "output_type": "execute_result"
    }
   ],
   "source": [
    "df.count()"
   ]
  },
  {
   "cell_type": "code",
   "execution_count": 6,
   "metadata": {},
   "outputs": [
    {
     "data": {
      "text/plain": [
       "['Date,Location,MinTemp,MaxTemp,Rainfall,Evaporation,Sunshine,WindGustDir,WindGustSpeed,WindDir9am,WindDir3pm,WindSpeed9am,WindSpeed3pm,Humidity9am,Humidity3pm,Pressure9am,Pressure3pm,Cloud9am,Cloud3pm,Temp9am,Temp3pm,RainToday,RainTomorrow',\n",
       " '2008-12-01,Albury,13.4,22.9,0.6,4.0,0.0,W,44.0,W,WNW,20.0,24.0,71.0,22.0,1007.7,1007.1,8.0,8.0,16.9,21.8,No,No',\n",
       " '2008-12-02,Albury,7.4,25.1,0.0,4.0,0.0,WNW,44.0,NNW,WSW,4.0,22.0,44.0,25.0,1010.6,1007.8,8.0,8.0,17.2,24.3,No,No',\n",
       " '2008-12-03,Albury,12.9,25.7,0.0,4.0,0.0,WSW,46.0,W,WSW,19.0,26.0,38.0,30.0,1007.6,1008.7,8.0,2.0,21.0,23.2,No,No',\n",
       " '2008-12-04,Albury,9.2,28.0,0.0,4.0,0.0,NE,24.0,SE,E,11.0,9.0,45.0,16.0,1017.6,1012.8,8.0,8.0,18.1,26.5,No,No']"
      ]
     },
     "execution_count": 6,
     "metadata": {},
     "output_type": "execute_result"
    }
   ],
   "source": [
    "df.take(5)"
   ]
  },
  {
   "cell_type": "code",
   "execution_count": 7,
   "metadata": {},
   "outputs": [
    {
     "data": {
      "text/plain": [
       "65298"
      ]
     },
     "execution_count": 7,
     "metadata": {},
     "output_type": "execute_result"
    }
   ],
   "source": [
    "#remove o cabeçalho\n",
    "df2 = df.filter(lambda x: \"Location\" not in x)\n",
    "df2.count()"
   ]
  },
  {
   "cell_type": "code",
   "execution_count": 8,
   "metadata": {},
   "outputs": [
    {
     "data": {
      "text/plain": [
       "['2008-12-01,Albury,13.4,22.9,0.6,4.0,0.0,W,44.0,W,WNW,20.0,24.0,71.0,22.0,1007.7,1007.1,8.0,8.0,16.9,21.8,No,No',\n",
       " '2008-12-02,Albury,7.4,25.1,0.0,4.0,0.0,WNW,44.0,NNW,WSW,4.0,22.0,44.0,25.0,1010.6,1007.8,8.0,8.0,17.2,24.3,No,No',\n",
       " '2008-12-03,Albury,12.9,25.7,0.0,4.0,0.0,WSW,46.0,W,WSW,19.0,26.0,38.0,30.0,1007.6,1008.7,8.0,2.0,21.0,23.2,No,No',\n",
       " '2008-12-04,Albury,9.2,28.0,0.0,4.0,0.0,NE,24.0,SE,E,11.0,9.0,45.0,16.0,1017.6,1012.8,8.0,8.0,18.1,26.5,No,No',\n",
       " '2008-12-05,Albury,17.5,32.3,1.0,4.0,0.0,W,41.0,ENE,NW,7.0,20.0,82.0,33.0,1010.8,1006.0,7.0,8.0,17.8,29.7,No,No']"
      ]
     },
     "execution_count": 8,
     "metadata": {},
     "output_type": "execute_result"
    }
   ],
   "source": [
    "df2.take(5)"
   ]
  },
  {
   "cell_type": "code",
   "execution_count": 9,
   "metadata": {},
   "outputs": [],
   "source": [
    "def Limpa(strLIST):\n",
    "    attList = strLIST.split(\",\")\n",
    "    \n",
    "    MinTempNA = attList[2]\n",
    "    if MinTempNA == \"NA\":\n",
    "        MinTempNA = 0\n",
    "        \n",
    "    choveuhoje = attList[21]\n",
    "    if choveuhoje == \"No\":\n",
    "        choveuhoje = 0\n",
    "    else:\n",
    "        choveuhoje = 1\n",
    "    \n",
    "    choveamanha = attList[22]\n",
    "    if choveamanha == \"No\":\n",
    "        choveamanha = 0\n",
    "    else:\n",
    "        choveamanha = 1\n",
    "        \n",
    "    #pego só algumas colunas\n",
    "    linha = Row(LOCATION = attList[1], MINTEMP = float(MinTempNA), MAXTEMP = float(attList[3]), RAINFALL = float(attList[4]),\n",
    "               WINDSPEED3PM = float(attList[12]), PRESSURE9AM = float(attList[15]), HUMIDITY9AM = float(attList[13]),\n",
    "               CLOUD3PM = float(attList[18]), CLOUD9AM = float(attList[17]), RAINTODAY = float(choveuhoje),\n",
    "               RAINTOMORROW = float(choveamanha))\n",
    "    \n",
    "    return linha"
   ]
  },
  {
   "cell_type": "code",
   "execution_count": 10,
   "metadata": {},
   "outputs": [
    {
     "data": {
      "text/plain": [
       "[Row(LOCATION='Albury', MINTEMP=13.4, MAXTEMP=22.9, RAINFALL=0.6, WINDSPEED3PM=24.0, PRESSURE9AM=1007.7, HUMIDITY9AM=71.0, CLOUD3PM=8.0, CLOUD9AM=8.0, RAINTODAY=0.0, RAINTOMORROW=0.0),\n",
       " Row(LOCATION='Albury', MINTEMP=7.4, MAXTEMP=25.1, RAINFALL=0.0, WINDSPEED3PM=22.0, PRESSURE9AM=1010.6, HUMIDITY9AM=44.0, CLOUD3PM=8.0, CLOUD9AM=8.0, RAINTODAY=0.0, RAINTOMORROW=0.0),\n",
       " Row(LOCATION='Albury', MINTEMP=12.9, MAXTEMP=25.7, RAINFALL=0.0, WINDSPEED3PM=26.0, PRESSURE9AM=1007.6, HUMIDITY9AM=38.0, CLOUD3PM=2.0, CLOUD9AM=8.0, RAINTODAY=0.0, RAINTOMORROW=0.0),\n",
       " Row(LOCATION='Albury', MINTEMP=9.2, MAXTEMP=28.0, RAINFALL=0.0, WINDSPEED3PM=9.0, PRESSURE9AM=1017.6, HUMIDITY9AM=45.0, CLOUD3PM=8.0, CLOUD9AM=8.0, RAINTODAY=0.0, RAINTOMORROW=0.0),\n",
       " Row(LOCATION='Albury', MINTEMP=17.5, MAXTEMP=32.3, RAINFALL=1.0, WINDSPEED3PM=20.0, PRESSURE9AM=1010.8, HUMIDITY9AM=82.0, CLOUD3PM=8.0, CLOUD9AM=7.0, RAINTODAY=0.0, RAINTOMORROW=0.0)]"
      ]
     },
     "execution_count": 10,
     "metadata": {},
     "output_type": "execute_result"
    }
   ],
   "source": [
    "ch = df2.map(Limpa)\n",
    "ch.cache()\n",
    "ch.take(5)"
   ]
  },
  {
   "cell_type": "code",
   "execution_count": 11,
   "metadata": {},
   "outputs": [
    {
     "data": {
      "text/plain": [
       "[Row(LOCATION='Albury', MINTEMP=13.4, MAXTEMP=22.9, RAINFALL=0.6, WINDSPEED3PM=24.0, PRESSURE9AM=1007.7, HUMIDITY9AM=71.0, CLOUD3PM=8.0, CLOUD9AM=8.0, RAINTODAY=0.0, RAINTOMORROW=0.0),\n",
       " Row(LOCATION='Albury', MINTEMP=7.4, MAXTEMP=25.1, RAINFALL=0.0, WINDSPEED3PM=22.0, PRESSURE9AM=1010.6, HUMIDITY9AM=44.0, CLOUD3PM=8.0, CLOUD9AM=8.0, RAINTODAY=0.0, RAINTOMORROW=0.0),\n",
       " Row(LOCATION='Albury', MINTEMP=12.9, MAXTEMP=25.7, RAINFALL=0.0, WINDSPEED3PM=26.0, PRESSURE9AM=1007.6, HUMIDITY9AM=38.0, CLOUD3PM=2.0, CLOUD9AM=8.0, RAINTODAY=0.0, RAINTOMORROW=0.0),\n",
       " Row(LOCATION='Albury', MINTEMP=9.2, MAXTEMP=28.0, RAINFALL=0.0, WINDSPEED3PM=9.0, PRESSURE9AM=1017.6, HUMIDITY9AM=45.0, CLOUD3PM=8.0, CLOUD9AM=8.0, RAINTODAY=0.0, RAINTOMORROW=0.0),\n",
       " Row(LOCATION='Albury', MINTEMP=17.5, MAXTEMP=32.3, RAINFALL=1.0, WINDSPEED3PM=20.0, PRESSURE9AM=1010.8, HUMIDITY9AM=82.0, CLOUD3PM=8.0, CLOUD9AM=7.0, RAINTODAY=0.0, RAINTOMORROW=0.0)]"
      ]
     },
     "execution_count": 11,
     "metadata": {},
     "output_type": "execute_result"
    }
   ],
   "source": [
    "#volta para dataframe para funcionar o label encoder\n",
    "chDF = spSession.createDataFrame(ch)\n",
    "chDF.cache()\n",
    "chDF.take(5)"
   ]
  },
  {
   "cell_type": "code",
   "execution_count": 13,
   "metadata": {},
   "outputs": [
    {
     "name": "stdout",
     "output_type": "stream",
     "text": [
      "+--------+-------+-------+--------+------------+-----------+-----------+--------+--------+---------+------------+------------+\n",
      "|LOCATION|MINTEMP|MAXTEMP|RAINFALL|WINDSPEED3PM|PRESSURE9AM|HUMIDITY9AM|CLOUD3PM|CLOUD9AM|RAINTODAY|RAINTOMORROW|IDX_LOCATION|\n",
      "+--------+-------+-------+--------+------------+-----------+-----------+--------+--------+---------+------------+------------+\n",
      "|  Albury|   13.4|   22.9|     0.6|        24.0|     1007.7|       71.0|     8.0|     8.0|      0.0|         0.0|         2.0|\n",
      "|  Albury|    7.4|   25.1|     0.0|        22.0|     1010.6|       44.0|     8.0|     8.0|      0.0|         0.0|         2.0|\n",
      "|  Albury|   12.9|   25.7|     0.0|        26.0|     1007.6|       38.0|     2.0|     8.0|      0.0|         0.0|         2.0|\n",
      "|  Albury|    9.2|   28.0|     0.0|         9.0|     1017.6|       45.0|     8.0|     8.0|      0.0|         0.0|         2.0|\n",
      "|  Albury|   17.5|   32.3|     1.0|        20.0|     1010.8|       82.0|     8.0|     7.0|      0.0|         0.0|         2.0|\n",
      "|  Albury|   14.6|   29.7|     0.2|        24.0|     1009.2|       55.0|     8.0|     8.0|      0.0|         0.0|         2.0|\n",
      "|  Albury|   14.3|   25.0|     0.0|        24.0|     1009.6|       49.0|     8.0|     1.0|      0.0|         0.0|         2.0|\n",
      "|  Albury|    7.7|   26.7|     0.0|        17.0|     1013.4|       48.0|     8.0|     8.0|      0.0|         0.0|         2.0|\n",
      "|  Albury|    9.7|   31.9|     0.0|        28.0|     1008.9|       42.0|     8.0|     8.0|      0.0|         1.0|         2.0|\n",
      "|  Albury|   13.1|   30.1|     1.4|        11.0|     1007.0|       58.0|     8.0|     8.0|      1.0|         0.0|         2.0|\n",
      "|  Albury|   13.4|   30.4|     0.0|         6.0|     1011.8|       48.0|     8.0|     8.0|      0.0|         1.0|         2.0|\n",
      "|  Albury|   15.9|   21.7|     2.2|        13.0|     1010.5|       89.0|     8.0|     8.0|      1.0|         1.0|         2.0|\n",
      "|  Albury|   15.9|   18.6|    15.6|        28.0|      994.3|       76.0|     8.0|     8.0|      1.0|         1.0|         2.0|\n",
      "|  Albury|   12.6|   21.0|     3.6|        20.0|     1001.2|       65.0|     7.0|     8.0|      1.0|         0.0|         2.0|\n",
      "|  Albury|    8.4|   24.6|     0.0|        30.0|     1009.7|       57.0|     8.0|     8.0|      0.0|         0.0|         2.0|\n",
      "|  Albury|    9.8|   27.7|     0.0|        22.0|     1013.4|       50.0|     8.0|     0.0|      0.0|         0.0|         2.0|\n",
      "|  Albury|   14.1|   20.9|     0.0|         9.0|     1012.2|       69.0|     1.0|     8.0|      0.0|         1.0|         2.0|\n",
      "|  Albury|   13.5|   22.9|    16.8|        20.0|     1005.8|       80.0|     1.0|     8.0|      1.0|         1.0|         2.0|\n",
      "|  Albury|   11.2|   22.5|    10.6|        17.0|     1009.4|       47.0|     2.0|     8.0|      1.0|         0.0|         2.0|\n",
      "|  Albury|    9.8|   25.6|     0.0|         6.0|     1019.2|       45.0|     8.0|     8.0|      0.0|         0.0|         2.0|\n",
      "+--------+-------+-------+--------+------------+-----------+-----------+--------+--------+---------+------------+------------+\n",
      "only showing top 20 rows\n",
      "\n"
     ]
    }
   ],
   "source": [
    "#possivel fazer a indexação\n",
    "#criando um label nas colunas\n",
    "stringIdx = StringIndexer(inputCol=\"LOCATION\", outputCol = \"IDX_LOCATION\")\n",
    "si_model = stringIdx.fit(chDF)\n",
    "chuvaNormDF = si_model.transform(chDF)\n",
    "chuvaNormDF.show()"
   ]
  },
  {
   "cell_type": "code",
   "execution_count": 16,
   "metadata": {},
   "outputs": [
    {
     "name": "stdout",
     "output_type": "stream",
     "text": [
      "Correlação da ChoveAmanha com  MINTEMP 0.12183981523672935\n",
      "Correlação da ChoveAmanha com  MAXTEMP -0.12212077037281745\n",
      "Correlação da ChoveAmanha com  RAINFALL 0.22716544458948232\n",
      "Correlação da ChoveAmanha com  WINDSPEED3PM 0.0729937027105102\n",
      "Correlação da ChoveAmanha com  PRESSURE9AM -0.15798557124903068\n",
      "Correlação da ChoveAmanha com  HUMIDITY9AM 0.23495782528763703\n",
      "Correlação da ChoveAmanha com  CLOUD3PM 0.17138668460006976\n",
      "Correlação da ChoveAmanha com  CLOUD9AM 0.15201004380026178\n",
      "Correlação da ChoveAmanha com  RAINTODAY 0.27775172858318625\n",
      "Correlação da ChoveAmanha com  RAINTOMORROW 1.0\n",
      "Correlação da ChoveAmanha com  IDX_LOCATION 0.004917586825932478\n"
     ]
    }
   ],
   "source": [
    "#CORRELAÇÃO ENTRE VARIAVEIS\n",
    "for i in chuvaNormDF.columns:\n",
    "    if not(isinstance(chuvaNormDF.select(i).take(1)[0][0], str)):\n",
    "        print(\"Correlação da ChoveAmanha com\", i, chuvaNormDF.stat.corr('RAINTOMORROW',i))"
   ]
  },
  {
   "cell_type": "code",
   "execution_count": 33,
   "metadata": {},
   "outputs": [],
   "source": [
    "#convertendo para vetor, no caso vou usar o dense\n",
    "def transformaVetDense(row):\n",
    "    obj = (row[\"RAINTOMORROW\"], Vectors.dense([row['CLOUD9AM'], row['MINTEMP'], row['CLOUD3PM'], row['PRESSURE9AM']\n",
    "                                              , row['MAXTEMP'], row['RAINFALL'], row['HUMIDITY9AM'], row['RAINTODAY'],\n",
    "                                              row['IDX_LOCATION']]))\n",
    "    return obj"
   ]
  },
  {
   "cell_type": "code",
   "execution_count": 34,
   "metadata": {},
   "outputs": [
    {
     "name": "stdout",
     "output_type": "stream",
     "text": [
      "+-----+--------------------+\n",
      "|label|            features|\n",
      "+-----+--------------------+\n",
      "|  0.0|[8.0,13.4,8.0,100...|\n",
      "|  0.0|[8.0,7.4,8.0,1010...|\n",
      "|  0.0|[8.0,12.9,2.0,100...|\n",
      "|  0.0|[8.0,9.2,8.0,1017...|\n",
      "|  0.0|[7.0,17.5,8.0,101...|\n",
      "|  0.0|[8.0,14.6,8.0,100...|\n",
      "|  0.0|[1.0,14.3,8.0,100...|\n",
      "|  0.0|[8.0,7.7,8.0,1013...|\n",
      "|  1.0|[8.0,9.7,8.0,1008...|\n",
      "|  0.0|[8.0,13.1,8.0,100...|\n",
      "+-----+--------------------+\n",
      "only showing top 10 rows\n",
      "\n"
     ]
    }
   ],
   "source": [
    "chuvaRDD = chuvaNormDF.rdd.map(transformaVetDense)\n",
    "chuvaDF1 = spSession.createDataFrame(chuvaRDD, ['label', 'features'])\n",
    "chuvaDF1.select('label', 'features').show(10)"
   ]
  },
  {
   "cell_type": "code",
   "execution_count": 35,
   "metadata": {},
   "outputs": [],
   "source": [
    "#separando treino e teste\n",
    "(treino, teste) = chuvaDF1.randomSplit([0.7,0.3], seed = 123)"
   ]
  },
  {
   "cell_type": "code",
   "execution_count": 36,
   "metadata": {},
   "outputs": [
    {
     "data": {
      "text/plain": [
       "45724"
      ]
     },
     "execution_count": 36,
     "metadata": {},
     "output_type": "execute_result"
    }
   ],
   "source": [
    "treino.count()"
   ]
  },
  {
   "cell_type": "code",
   "execution_count": 37,
   "metadata": {},
   "outputs": [
    {
     "data": {
      "text/plain": [
       "19574"
      ]
     },
     "execution_count": 37,
     "metadata": {},
     "output_type": "execute_result"
    }
   ],
   "source": [
    "teste.count()"
   ]
  },
  {
   "cell_type": "code",
   "execution_count": 38,
   "metadata": {},
   "outputs": [],
   "source": [
    "#treinamento\n",
    "linearReg = LinearRegression(maxIter = 10)\n",
    "modelo = linearReg.fit(treino)"
   ]
  },
  {
   "cell_type": "code",
   "execution_count": 39,
   "metadata": {},
   "outputs": [
    {
     "name": "stdout",
     "output_type": "stream",
     "text": [
      "Coeficientes: [-0.0016738843075472514,0.017683586108298184,0.015906418500862197,-0.007530277883521747,-0.015461671974936664,0.0037111024578567156,0.0030403558031590183,0.09956700286601287,7.409987276025646e-05]\n",
      "Intercepto: 7.690524978020166\n"
     ]
    }
   ],
   "source": [
    "#metricas\n",
    "print(\"Coeficientes: \" + str(modelo.coefficients))\n",
    "print(\"Intercepto: \" + str(modelo.intercept))"
   ]
  },
  {
   "cell_type": "code",
   "execution_count": 40,
   "metadata": {},
   "outputs": [
    {
     "name": "stdout",
     "output_type": "stream",
     "text": [
      "+--------------------+--------------------+\n",
      "|            features|          prediction|\n",
      "+--------------------+--------------------+\n",
      "|[0.0,-2.3,3.0,102...|-0.08453566093334253|\n",
      "|[0.0,-1.3,0.0,103...| -0.1619838363440671|\n",
      "|[0.0,-0.8,0.0,101...|-0.04990565469283...|\n",
      "|[0.0,-0.6,0.0,102...| -0.1757433256568124|\n",
      "|[0.0,-0.4,0.0,102...|-0.03046721680427...|\n",
      "|[0.0,-0.2,1.0,102...|-0.12898740486037497|\n",
      "|[0.0,0.2,0.0,1024...| -0.2309975696524802|\n",
      "|[0.0,0.5,0.0,1025...|-0.00981366147174...|\n",
      "|[0.0,0.5,4.0,1021...|  0.0636398202490902|\n",
      "|[0.0,0.6,2.0,1023...| 0.01248353292866522|\n",
      "|[0.0,0.6,2.0,1025...| 0.03299668967501468|\n",
      "|[0.0,0.6,8.0,1028...| 0.09767719368774141|\n",
      "|[0.0,0.8,0.0,1017...|-0.04314855689859609|\n",
      "|[0.0,0.8,1.0,1023...|-0.02495017559312...|\n",
      "|[0.0,0.9,2.0,1031...|-0.11740052719366645|\n",
      "|[0.0,1.0,0.0,1029...| -0.2672115439641214|\n",
      "|[0.0,1.1,1.0,1032...|-0.06272157455361604|\n",
      "|[0.0,1.2,2.0,1026...|-0.05691484329217644|\n",
      "|[0.0,1.3,1.0,1020...|-0.02898730421814477|\n",
      "|[0.0,1.4,0.0,1027...|-0.07835271296990065|\n",
      "+--------------------+--------------------+\n",
      "only showing top 20 rows\n",
      "\n"
     ]
    }
   ],
   "source": [
    "#previsões\n",
    "predictions = modelo.transform(teste)\n",
    "predictions.select(\"features\", \"prediction\").show()"
   ]
  },
  {
   "cell_type": "code",
   "execution_count": 41,
   "metadata": {},
   "outputs": [
    {
     "data": {
      "text/plain": [
       "0.17629110291315797"
      ]
     },
     "execution_count": 41,
     "metadata": {},
     "output_type": "execute_result"
    }
   ],
   "source": [
    "#coeficiente de determinação R2\n",
    "avaliador = RegressionEvaluator(predictionCol = \"prediction\", labelCol=\"label\", metricName=\"r2\")\n",
    "avaliador.evaluate(predictions)"
   ]
  }
 ],
 "metadata": {
  "kernelspec": {
   "display_name": "Python 3",
   "language": "python",
   "name": "python3"
  },
  "language_info": {
   "codemirror_mode": {
    "name": "ipython",
    "version": 3
   },
   "file_extension": ".py",
   "mimetype": "text/x-python",
   "name": "python",
   "nbconvert_exporter": "python",
   "pygments_lexer": "ipython3",
   "version": "3.8.5"
  }
 },
 "nbformat": 4,
 "nbformat_minor": 4
}
